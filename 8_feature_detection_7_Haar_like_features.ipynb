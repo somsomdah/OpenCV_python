{
  "nbformat": 4,
  "nbformat_minor": 0,
  "metadata": {
    "colab": {
      "name": "8_feature_detection_7_Haar-like_features.ipynb",
      "provenance": []
    },
    "kernelspec": {
      "name": "python3",
      "display_name": "Python 3"
    },
    "accelerator": "GPU"
  },
  "cells": [
    {
      "cell_type": "code",
      "metadata": {
        "id": "gAkRpcJGqmmV",
        "colab_type": "code",
        "colab": {}
      },
      "source": [
        "import cv2\n",
        "import numpy as np"
      ],
      "execution_count": 0,
      "outputs": []
    },
    {
      "cell_type": "code",
      "metadata": {
        "id": "JPmWx7jXqvjL",
        "colab_type": "code",
        "colab": {}
      },
      "source": [
        "def rectSum(sumImage, rect):\n",
        "    x, y, w, h = rect\n",
        "    a = sumImage[y, x]\n",
        "    b = sumImage[y, x+w]\n",
        "    c = sumImage[y+h, x]\n",
        "    d = sumImage[y+h, x+w]\n",
        "    return a + d - b - c"
      ],
      "execution_count": 0,
      "outputs": []
    },
    {
      "cell_type": "code",
      "metadata": {
        "id": "iTM5RYsMq6PM",
        "colab_type": "code",
        "colab": {}
      },
      "source": [
        "def compute_Haar_feature1(sumImage):\n",
        "    rows, cols = sumImage.shape\n",
        "    rows -= 1\n",
        "    cols -= 1\n",
        "    f1 = []\n",
        "    for y in range(0, rows):\n",
        "        for x in range(0, cols):\n",
        "            for h in range(1, rows-y+1):\n",
        "                for w in range(1, (cols-x)//2+1):\n",
        "                    s1 = rectSum(sumImage, (x,  y, w, h))\n",
        "                    s2 = rectSum(sumImage, (x+w,y, w, h))\n",
        "                    f1.append([1, x, y, w, h, s1-s2])    \n",
        "    return f1\n",
        "def compute_Haar_feature2(sumImage):\n",
        "    rows, cols = sumImage.shape\n",
        "    rows -= 1\n",
        "    cols -= 1\n",
        "    f2 = []\n",
        "    for y in range(0, rows):\n",
        "        for x in range(0, cols):\n",
        "            for h in range(1, (rows-y)//2+1):\n",
        "                for w in range(1, cols-x+1):\n",
        "                    s1 = rectSum(sumImage, (x,  y, w, h))\n",
        "                    s2 = rectSum(sumImage, (x,y+h, w, h))\n",
        "                    f2.append([2, x, y, w, h, s2-s1])    \n",
        "    return f2\n",
        "def compute_Haar_feature3(sumImage):\n",
        "    rows, cols = sumImage.shape\n",
        "    rows -= 1\n",
        "    cols -= 1\n",
        "    f3 = []\n",
        "    for y in range(0, rows):\n",
        "        for x in range(0, cols):\n",
        "            for h in range(1, rows-y+1):\n",
        "                for w in range(1, (cols-x)//3+1):\n",
        "                    s1 = rectSum(sumImage, (x,    y, w, h))\n",
        "                    s2 = rectSum(sumImage, (x+w,  y, w, h))\n",
        "                    s3 = rectSum(sumImage, (x+2*w,y, w, h))                    \n",
        "                    f3.append([3, x, y, w, h, s1-s2+s3])    \n",
        "    return f3\n",
        "def compute_Haar_feature4(sumImage):\n",
        "    rows, cols = sumImage.shape\n",
        "    rows -= 1\n",
        "    cols -= 1\n",
        "    f4 = []\n",
        "    for y in range(0, rows):\n",
        "        for x in range(0, cols):\n",
        "            for h in range(1, (rows-y)//3+1):\n",
        "                for w in range(1, cols-x+1):\n",
        "                    s1 = rectSum(sumImage, (x,  y,   w, h))\n",
        "                    s2 = rectSum(sumImage, (x,y+h,   w, h))\n",
        "                    s3 = rectSum(sumImage, (x,y+2*h, w, h))\n",
        "                    f4.append([4, x, y, w, h, s1-s2+s3])    \n",
        "    return f4\n",
        "def compute_Haar_feature5(sumImage):\n",
        "    rows, cols = sumImage.shape\n",
        "    rows -= 1\n",
        "    cols -= 1\n",
        "    f5 = []\n",
        "    for y in range(0, rows):\n",
        "        for x in range(0, cols):\n",
        "            for h in range(1, (rows-y)//2+1):\n",
        "                for w in range(1, (cols-x)//2+1):\n",
        "                    s1 = rectSum(sumImage, (x,  y,   w, h))\n",
        "                    s2 = rectSum(sumImage, (x+w,y,   w, h))\n",
        "                    s3 = rectSum(sumImage, (x,  y+h, w, h))\n",
        "                    s4 = rectSum(sumImage, (x+w,y+h, w, h))\n",
        "                    f5.append([5, x, y, w, h, s1-s2-s3+s4])    \n",
        "    return f5"
      ],
      "execution_count": 0,
      "outputs": []
    },
    {
      "cell_type": "code",
      "metadata": {
        "id": "LlQCc_dfrPK0",
        "colab_type": "code",
        "colab": {
          "base_uri": "https://localhost:8080/",
          "height": 35
        },
        "outputId": "8f937cc9-a5d1-4a01-d4f7-a9515ea99e5b"
      },
      "source": [
        "gray = cv2.imread('Lenna.png', cv2.IMREAD_GRAYSCALE)\n",
        "gray=cv2.resize(gray,(24,24))\n",
        "gray_sum = cv2.integral(gray)\n",
        "\n",
        "f1 = compute_Haar_feature1(gray_sum)\n",
        "n1 = len(f1)\n",
        "print('len(f1)=',n1)"
      ],
      "execution_count": 19,
      "outputs": [
        {
          "output_type": "stream",
          "text": [
            "len(f1)= 43200\n"
          ],
          "name": "stdout"
        }
      ]
    },
    {
      "cell_type": "code",
      "metadata": {
        "id": "FwTWx9kPvFsa",
        "colab_type": "code",
        "colab": {
          "base_uri": "https://localhost:8080/",
          "height": 197
        },
        "outputId": "eada8b82-494d-431f-a8e0-876ad63350ee"
      },
      "source": [
        "sample_idx=np.random.choice(n1,10)\n",
        "for idx in sample_idx:\n",
        "    print('f1[{}]={}'.format(idx, f1[idx.astype(int)]))"
      ],
      "execution_count": 26,
      "outputs": [
        {
          "output_type": "stream",
          "text": [
            "f1[26261]=[1, 1, 9, 8, 15, -2725]\n",
            "f1[14619]=[1, 8, 4, 4, 8, -1397]\n",
            "f1[10107]=[1, 0, 3, 4, 15, 1345]\n",
            "f1[20648]=[1, 13, 6, 1, 5, -131]\n",
            "f1[19035]=[1, 2, 6, 2, 5, 259]\n",
            "f1[14259]=[1, 6, 4, 4, 5, -682]\n",
            "f1[25384]=[1, 12, 8, 5, 7, 612]\n",
            "f1[20018]=[1, 8, 6, 3, 1, -101]\n",
            "f1[28121]=[1, 0, 10, 6, 4, 767]\n",
            "f1[35730]=[1, 4, 14, 1, 2, 0]\n"
          ],
          "name": "stdout"
        }
      ]
    }
  ]
}